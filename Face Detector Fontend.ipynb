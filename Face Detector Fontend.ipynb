{
 "cells": [
  {
   "cell_type": "code",
   "execution_count": 1,
   "metadata": {},
   "outputs": [
    {
     "name": "stderr",
     "output_type": "stream",
     "text": [
      "Using TensorFlow backend.\n"
     ]
    }
   ],
   "source": [
    "import cv2\n",
    "from keras.applications.vgg16 import preprocess_input\n",
    "import base64\n",
    "import random, json\n",
    "from keras.models import load_model\n",
    "import numpy as np"
   ]
  },
  {
   "cell_type": "code",
   "execution_count": 2,
   "metadata": {},
   "outputs": [],
   "source": [
    "model=load_model('facefeatures_new_model.h5')\n",
    "face_classifier = cv2.CascadeClassifier('C:\\\\Users\\\\ASUS\\\\AppData\\\\Local\\\\Programs\\\\Python\\\\Python37\\\\Lib\\\\site-packages\\\\cv2\\\\data\\\\haarcascade_frontalface_default.xml')"
   ]
  },
  {
   "cell_type": "code",
   "execution_count": 3,
   "metadata": {},
   "outputs": [],
   "source": [
    "def face_detector(img):\n",
    "    faces=face_classifier.detectMultiScale(img, 1.3, 5)\n",
    "    \n",
    "    if faces is ():\n",
    "        return None\n",
    "    \n",
    "    for (x, y, w, h) in faces:\n",
    "        cv2.rectangle(img, (x, y), (x+w, y+h), (0, 255, 0), 2)\n",
    "        cropped_face=img[y:y+h, x:x+w]\n",
    "    return cropped_face"
   ]
  },
  {
   "cell_type": "code",
   "execution_count": 4,
   "metadata": {},
   "outputs": [],
   "source": [
    "video=cv2.VideoCapture(0)"
   ]
  },
  {
   "cell_type": "code",
   "execution_count": 6,
   "metadata": {},
   "outputs": [
    {
     "name": "stdout",
     "output_type": "stream",
     "text": [
      "[[4.635519e-16 1.000000e+00]] Vivek Ghosh\n",
      "[[1.1998681e-10 1.0000000e+00]] Vivek Ghosh\n",
      "[[1.3562689e-22 1.0000000e+00]] Vivek Ghosh\n",
      "[[1.20393565e-24 1.00000000e+00]] Vivek Ghosh\n",
      "[[1.4544673e-11 1.0000000e+00]] Vivek Ghosh\n",
      "[[2.809902e-23 1.000000e+00]] Vivek Ghosh\n",
      "[[7.0572472e-09 1.0000000e+00]] Vivek Ghosh\n",
      "[[1.0997814e-16 1.0000000e+00]] Vivek Ghosh\n",
      "[[1.2388249e-18 1.0000000e+00]] Vivek Ghosh\n",
      "[[4.2234656e-20 1.0000000e+00]] Vivek Ghosh\n",
      "[[2.0250968e-20 1.0000000e+00]] Vivek Ghosh\n",
      "[[1.7591408e-18 1.0000000e+00]] Vivek Ghosh\n",
      "[[4.187894e-22 1.000000e+00]] Vivek Ghosh\n",
      "[[1.1165706e-26 1.0000000e+00]] Vivek Ghosh\n",
      "[[9.9962044e-01 3.7953595e-04]] Papa\n",
      "[[9.9999976e-01 2.0113664e-07]] Papa\n",
      "[[7.968811e-06 9.999920e-01]] Vivek Ghosh\n",
      "[[5.8142496e-14 1.0000000e+00]] Vivek Ghosh\n",
      "[[1.9079372e-23 1.0000000e+00]] Vivek Ghosh\n",
      "[[7.587933e-20 1.000000e+00]] Vivek Ghosh\n",
      "[[5.4800944e-15 1.0000000e+00]] Vivek Ghosh\n",
      "[[2.6881713e-15 1.0000000e+00]] Vivek Ghosh\n",
      "[[2.3505795e-19 1.0000000e+00]] Vivek Ghosh\n"
     ]
    }
   ],
   "source": [
    "from PIL import Image\n",
    "\n",
    "while(True):\n",
    "    _, frame=video.read()\n",
    "    face=face_detector(frame)\n",
    "    \n",
    "    if type(face) is  np.ndarray:\n",
    "        face = cv2.resize(face, (224, 224))\n",
    "        im = Image.fromarray(face, 'RGB')\n",
    "           #Resizing into 128x128 because we trained the model with this image size.\n",
    "        img_array = np.array(im)\n",
    "                    #Our keras model used a 4D tensor, (images x height x width x channel)\n",
    "                    #So changing dimension 128x128x3 into 1x128x128x3 \n",
    "        img_array = np.expand_dims(img_array, axis=0)\n",
    "        pred = model.predict(img_array)\n",
    "                     \n",
    "        name=\"None matching\"\n",
    "        \n",
    "        if(pred[0][1] > 0.5):\n",
    "            name='Vivek Ghosh'\n",
    "        else:\n",
    "            name='Papa'\n",
    "            \n",
    "        print(pred, name)\n",
    "        cv2.putText(frame,name, (50, 50), cv2.FONT_HERSHEY_COMPLEX, 1, (0,255,0), 2)\n",
    "    else:\n",
    "        cv2.putText(frame,\"No face found\", (50, 50), cv2.FONT_HERSHEY_COMPLEX, 1, (0,255,0), 2)\n",
    "    cv2.imshow('Video', frame)\n",
    "    if cv2.waitKey(1) & 0xFF == ord('q'):\n",
    "        break\n",
    "video.release()\n",
    "cv2.destroyAllWindows()"
   ]
  }
 ],
 "metadata": {
  "kernelspec": {
   "display_name": "Python 3",
   "language": "python",
   "name": "python3"
  },
  "language_info": {
   "codemirror_mode": {
    "name": "ipython",
    "version": 3
   },
   "file_extension": ".py",
   "mimetype": "text/x-python",
   "name": "python",
   "nbconvert_exporter": "python",
   "pygments_lexer": "ipython3",
   "version": "3.7.4"
  }
 },
 "nbformat": 4,
 "nbformat_minor": 2
}
